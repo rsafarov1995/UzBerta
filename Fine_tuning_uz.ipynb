{
 "cells": [
  {
   "cell_type": "code",
   "execution_count": 1,
   "id": "27c587fd-1062-4995-bfd9-72f4ae2ef067",
   "metadata": {},
   "outputs": [
    {
     "name": "stderr",
     "output_type": "stream",
     "text": [
      "/home/jupyter-rifqat_new/.conda/envs/transformers/lib/python3.8/site-packages/torchaudio/backend/utils.py:53: UserWarning: \"sox\" backend is being deprecated. The default backend will be changed to \"sox_io\" backend in 0.8.0 and \"sox\" backend will be removed in 0.9.0. Please migrate to \"sox_io\" backend. Please refer to https://github.com/pytorch/audio/issues/903 for the detail.\n",
      "  warnings.warn(\n"
     ]
    }
   ],
   "source": [
    "from transformers import pipeline\n",
    "\n",
    "fill_mask = pipeline(\n",
    "    \"fill-mask\",\n",
    "    model=\"./RoBert_uzbek_568\",\n",
    "    tokenizer=\"./RoBert_uzbek_568\"\n",
    ")"
   ]
  },
  {
   "cell_type": "code",
   "execution_count": 2,
   "id": "28459f33-988b-4156-8065-444cefffb097",
   "metadata": {},
   "outputs": [
    {
     "data": {
      "text/plain": [
       "[{'sequence': 'Таълим сифатини ошириш бўйича аниқ чоралар кўрилади.',\n",
       "  'score': 0.38808244466781616,\n",
       "  'token': 11797,\n",
       "  'token_str': ' кўрилади'},\n",
       " {'sequence': 'Таълим сифатини ошириш бўйича аниқ чоралар кўрилмоқда.',\n",
       "  'score': 0.2014046013355255,\n",
       "  'token': 10687,\n",
       "  'token_str': ' кўрилмоқда'},\n",
       " {'sequence': 'Таълим сифатини ошириш бўйича аниқ чоралар кўрилди.',\n",
       "  'score': 0.11658839136362076,\n",
       "  'token': 11815,\n",
       "  'token_str': ' кўрилди'},\n",
       " {'sequence': 'Таълим сифатини ошириш бўйича аниқ чоралар белгиланди.',\n",
       "  'score': 0.09943587332963943,\n",
       "  'token': 4180,\n",
       "  'token_str': ' белгиланди'},\n",
       " {'sequence': 'Таълим сифатини ошириш бўйича аниқ чоралар кўрилган.',\n",
       "  'score': 0.03727302327752113,\n",
       "  'token': 7558,\n",
       "  'token_str': ' кўрилган'}]"
      ]
     },
     "execution_count": 2,
     "metadata": {},
     "output_type": "execute_result"
    }
   ],
   "source": [
    "fill_mask(\"Таълим сифатини ошириш бўйича аниқ чоралар <mask>.\") "
   ]
  },
  {
   "cell_type": "code",
   "execution_count": 3,
   "id": "846d88d9-2aa2-4d69-a0d5-50bcefaf5ad7",
   "metadata": {},
   "outputs": [
    {
     "data": {
      "text/plain": [
       "[{'sequence': 'Иккинчидан, келгуси беш йилда 17 та янги мактаб қурилади, 248 таси реконструкция қилинади ва капитал таъмирланади.',\n",
       "  'score': 0.5610913038253784,\n",
       "  'token': 9168,\n",
       "  'token_str': ' қурилади'},\n",
       " {'sequence': 'Иккинчидан, келгуси беш йилда 17 та янги мактаб қурилиб, 248 таси реконструкция қилинади ва капитал таъмирланади.',\n",
       "  'score': 0.14145365357398987,\n",
       "  'token': 22617,\n",
       "  'token_str': ' қурилиб'},\n",
       " {'sequence': 'Иккинчидан, келгуси беш йилда 17 та янги мактаб таъмирланади, 248 таси реконструкция қилинади ва капитал таъмирланади.',\n",
       "  'score': 0.09671743214130402,\n",
       "  'token': 29821,\n",
       "  'token_str': ' таъмирланади'},\n",
       " {'sequence': 'Иккинчидан, келгуси беш йилда 17 та янги мактаб қурилди, 248 таси реконструкция қилинади ва капитал таъмирланади.',\n",
       "  'score': 0.051232289522886276,\n",
       "  'token': 18628,\n",
       "  'token_str': ' қурилди'},\n",
       " {'sequence': 'Иккинчидан, келгуси беш йилда 17 та янги мактаб қурилмоқда, 248 таси реконструкция қилинади ва капитал таъмирланади.',\n",
       "  'score': 0.024293679744005203,\n",
       "  'token': 18291,\n",
       "  'token_str': ' қурилмоқда'}]"
      ]
     },
     "execution_count": 3,
     "metadata": {},
     "output_type": "execute_result"
    }
   ],
   "source": [
    "fill_mask(\"Иккинчидан, келгуси беш йилда 17 та янги мактаб <mask>, 248 таси реконструкция қилинади ва капитал таъмирланади.\") "
   ]
  },
  {
   "cell_type": "code",
   "execution_count": 6,
   "id": "c2b9f7d8-036c-4ace-85ea-239a2b857105",
   "metadata": {},
   "outputs": [
    {
     "data": {
      "text/plain": [
       "[{'sequence': 'Меъёрдан ортиқ юк ортган юк машиналари ва бефарқ ЙПХ ходимлари: йўлларда хавфсизликни ким таъминлайди?',\n",
       "  'score': 0.08068564534187317,\n",
       "  'token': 10421,\n",
       "  'token_str': ' ЙПХ'},\n",
       " {'sequence': 'Меъёрдан ортиқ юк ортган юк машиналари ва бефарқлик ходимлари: йўлларда хавфсизликни ким таъминлайди?',\n",
       "  'score': 0.06036025658249855,\n",
       "  'token': 355,\n",
       "  'token_str': 'лик'},\n",
       " {'sequence': 'Меъёрдан ортиқ юк ортган юк машиналари ва бефарқ тиббиёт ходимлари: йўлларда хавфсизликни ким таъминлайди?',\n",
       "  'score': 0.051403164863586426,\n",
       "  'token': 2107,\n",
       "  'token_str': ' тиббиёт'},\n",
       " {'sequence': 'Меъёрдан ортиқ юк ортган юк машиналари ва бефарқликлар ходимлари: йўлларда хавфсизликни ким таъминлайди?',\n",
       "  'score': 0.03249432146549225,\n",
       "  'token': 1232,\n",
       "  'token_str': 'ликлар'},\n",
       " {'sequence': 'Меъёрдан ортиқ юк ортган юк машиналари ва бефарқ божхона ходимлари: йўлларда хавфсизликни ким таъминлайди?',\n",
       "  'score': 0.028161775320768356,\n",
       "  'token': 2408,\n",
       "  'token_str': ' божхона'}]"
      ]
     },
     "execution_count": 6,
     "metadata": {},
     "output_type": "execute_result"
    }
   ],
   "source": [
    "fill_mask(\"Меъёрдан ортиқ юк ортган юк машиналари ва бефарқ <mask> ходимлари: йўлларда хавфсизликни ким таъминлайди?\")"
   ]
  },
  {
   "cell_type": "code",
   "execution_count": 5,
   "id": "fdfb0c77-8fed-45af-b22f-5a85e4804b72",
   "metadata": {},
   "outputs": [
    {
     "data": {
      "text/plain": [
       "[{'sequence': 'Алишер Навоий – улуғ ўзбек ва бошқа туркий халқларнинг шоири, мутафаккири ва давлат арбоби бўлган.',\n",
       "  'score': 0.3244023323059082,\n",
       "  'token': 26095,\n",
       "  'token_str': ' шоири'},\n",
       " {'sequence': 'Алишер Навоий – улуғ ўзбек ва бошқа туркий халқларнинг етакчиси, мутафаккири ва давлат арбоби бўлган.',\n",
       "  'score': 0.06906726956367493,\n",
       "  'token': 4085,\n",
       "  'token_str': ' етакчиси'},\n",
       " {'sequence': 'Алишер Навоий – улуғ ўзбек ва бошқа туркий халқларнинг асосчиси, мутафаккири ва давлат арбоби бўлган.',\n",
       "  'score': 0.04497770220041275,\n",
       "  'token': 6234,\n",
       "  'token_str': ' асосчиси'},\n",
       " {'sequence': 'Алишер Навоий – улуғ ўзбек ва бошқа туркий халқларнинг арбоби, мутафаккири ва давлат арбоби бўлган.',\n",
       "  'score': 0.040043462067842484,\n",
       "  'token': 19032,\n",
       "  'token_str': ' арбоби'},\n",
       " {'sequence': 'Алишер Навоий – улуғ ўзбек ва бошқа туркий халқларнинг ёзувчиси, мутафаккири ва давлат арбоби бўлган.',\n",
       "  'score': 0.025429056957364082,\n",
       "  'token': 35683,\n",
       "  'token_str': ' ёзувчиси'}]"
      ]
     },
     "execution_count": 5,
     "metadata": {},
     "output_type": "execute_result"
    }
   ],
   "source": [
    "fill_mask(\"Алишер Навоий – улуғ ўзбек ва бошқа туркий халқларнинг <mask>, мутафаккири ва давлат арбоби бўлган.\") "
   ]
  },
  {
   "cell_type": "code",
   "execution_count": 1,
   "id": "26fe11e3-7041-4d42-9f5f-6d40bc56e645",
   "metadata": {},
   "outputs": [],
   "source": [
    "with open(\"kun_malumotlari.txt\", \"rb\") as f:\n",
    "    contents = f.read().decode(\"UTF-8\")"
   ]
  },
  {
   "cell_type": "code",
   "execution_count": 3,
   "id": "e6c052bc-0d7f-4e72-963c-7276afde987f",
   "metadata": {},
   "outputs": [],
   "source": [
    "with open(\"kun.txt\", \"wb\") as f:\n",
    "    f.write(contents.encode(\"UTF-8\"))"
   ]
  },
  {
   "cell_type": "code",
   "execution_count": null,
   "id": "a3c1fc5c-05fb-4f22-8c57-744b3c5c1d72",
   "metadata": {},
   "outputs": [],
   "source": [
    "from bs4 import UnicodeDammit\n",
    "with open('kun_en.txt', 'rb') as file:\n",
    "   content = file.read()\n",
    "\n",
    "suggestion = UnicodeDammit(content)\n",
    "suggestion.original_encoding"
   ]
  },
  {
   "cell_type": "code",
   "execution_count": null,
   "id": "0d253f7f-d2ea-4a7c-9049-47f195a57a2a",
   "metadata": {},
   "outputs": [],
   "source": []
  }
 ],
 "metadata": {
  "kernelspec": {
   "display_name": "Python 3 (ipykernel)",
   "language": "python",
   "name": "python3"
  },
  "language_info": {
   "codemirror_mode": {
    "name": "ipython",
    "version": 3
   },
   "file_extension": ".py",
   "mimetype": "text/x-python",
   "name": "python",
   "nbconvert_exporter": "python",
   "pygments_lexer": "ipython3",
   "version": "3.9.7"
  }
 },
 "nbformat": 4,
 "nbformat_minor": 5
}
